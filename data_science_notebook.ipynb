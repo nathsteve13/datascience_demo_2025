{
  "nbformat": 4,
  "nbformat_minor": 0,
  "metadata": {
    "colab": {
      "provenance": [],
      "toc_visible": true,
      "authorship_tag": "ABX9TyN9vczk1oo56An+4HTI0BY0",
      "include_colab_link": true
    },
    "kernelspec": {
      "name": "python3",
      "display_name": "Python 3"
    },
    "language_info": {
      "name": "python"
    }
  },
  "cells": [
    {
      "cell_type": "markdown",
      "metadata": {
        "id": "view-in-github",
        "colab_type": "text"
      },
      "source": [
        "<a href=\"https://colab.research.google.com/github/nathsteve13/datascience_demo_2025/blob/main/data_science_notebook.ipynb\" target=\"_parent\"><img src=\"https://colab.research.google.com/assets/colab-badge.svg\" alt=\"Open In Colab\"/></a>"
      ]
    },
    {
      "cell_type": "markdown",
      "source": [
        "## INGEST"
      ],
      "metadata": {
        "id": "86AxlVh0a7Ak"
      }
    },
    {
      "cell_type": "code",
      "execution_count": null,
      "metadata": {
        "id": "c2UmnKxea3n3"
      },
      "outputs": [],
      "source": []
    },
    {
      "cell_type": "markdown",
      "source": [
        "## EDA"
      ],
      "metadata": {
        "id": "DdGiLR0Fa_lx"
      }
    },
    {
      "cell_type": "code",
      "source": [],
      "metadata": {
        "id": "BRx6QkGSbBsO"
      },
      "execution_count": null,
      "outputs": []
    },
    {
      "cell_type": "markdown",
      "source": [
        "## MODELING"
      ],
      "metadata": {
        "id": "PpldiXKfbCAa"
      }
    },
    {
      "cell_type": "code",
      "source": [],
      "metadata": {
        "id": "JG3MlirdbFgX"
      },
      "execution_count": null,
      "outputs": []
    },
    {
      "cell_type": "markdown",
      "source": [
        "## CONCLUSION"
      ],
      "metadata": {
        "id": "JIM1vnT5bGD7"
      }
    },
    {
      "cell_type": "code",
      "source": [],
      "metadata": {
        "id": "yJxLAc97bJDM"
      },
      "execution_count": null,
      "outputs": []
    }
  ]
}